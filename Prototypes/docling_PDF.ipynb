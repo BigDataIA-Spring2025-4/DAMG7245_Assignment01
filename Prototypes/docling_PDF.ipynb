{
 "cells": [
  {
   "cell_type": "code",
   "execution_count": 10,
   "metadata": {},
   "outputs": [],
   "source": [
    "from pathlib import Path\n",
    "import pandas as pd\n",
    "from docling.document_converter import DocumentConverter\n",
    "from docling.datamodel.base_models import FigureElement, InputFormat, Table\n",
    "from docling_core.types.doc import ImageRefMode, PictureItem, TableItem\n",
    "from docling.document_converter import (\n",
    "    DocumentConverter,\n",
    "    PdfFormatOption,\n",
    "    WordFormatOption,\n",
    ")\n",
    "from docling.pipeline.simple_pipeline import SimplePipeline\n",
    "# from docling.pipeline.standard_pdf_pipeline import StandardPdfPipeline\n",
    "from docling.datamodel.pipeline_options import PdfPipelineOptions\n",
    "from docling.backend.pypdfium2_backend import PyPdfiumDocumentBackend"
   ]
  },
  {
   "cell_type": "code",
   "execution_count": 12,
   "metadata": {},
   "outputs": [],
   "source": [
    "pipeline_options = PdfPipelineOptions()\n",
    "pipeline_options.do_ocr = True\n",
    "pipeline_options.do_table_structure = True\n",
    "pipeline_options.images_scale = 2.0\n",
    "pipeline_options.generate_page_images = True\n",
    "pipeline_options.generate_picture_images = True"
   ]
  },
  {
   "cell_type": "code",
   "execution_count": 13,
   "metadata": {},
   "outputs": [],
   "source": [
    "doc_converter = (\n",
    "    DocumentConverter(  # all of the below is optional, has internal defaults.\n",
    "        allowed_formats=[\n",
    "            InputFormat.PDF,\n",
    "            InputFormat.IMAGE,\n",
    "            InputFormat.DOCX,\n",
    "            InputFormat.HTML,\n",
    "            InputFormat.PPTX,\n",
    "        ],  # whitelist formats, non-matching files are ignored.\n",
    "        format_options={\n",
    "            InputFormat.PDF: PdfFormatOption(\n",
    "                pipeline_options=pipeline_options, # pipeline options go here.\n",
    "                backend=PyPdfiumDocumentBackend # optional: pick an alternative backend\n",
    "            ),\n",
    "            InputFormat.DOCX: WordFormatOption(\n",
    "                pipeline_cls=SimplePipeline # default for office formats and HTML\n",
    "            ),\n",
    "        },\n",
    "    )\n",
    ")"
   ]
  },
  {
   "cell_type": "code",
   "execution_count": 16,
   "metadata": {},
   "outputs": [],
   "source": [
    "from docling.datamodel.document import ConversionResult\n",
    "conv_result = doc_converter.convert(\"https://raw.githubusercontent.com/Azure-Samples/cognitive-services-REST-api-samples/master/curl/form-recognizer/sample-layout.pdf\")\n"
   ]
  },
  {
   "cell_type": "code",
   "execution_count": 17,
   "metadata": {},
   "outputs": [],
   "source": [
    "def create_folder_if_not_exists(folder_path):\n",
    "    Path(folder_path).mkdir(parents=True, exist_ok=True)\n",
    "\n",
    "# Example usage:\n",
    "output_dir = Path(\"Samples/Docling_\" + conv_result.input.file.stem)\n",
    "create_folder_if_not_exists(output_dir)"
   ]
  },
  {
   "cell_type": "code",
   "execution_count": 18,
   "metadata": {},
   "outputs": [],
   "source": [
    "# Specify the file name\n",
    "doc_filename = conv_result.input.file.stem\n",
    "file_name = output_dir / f\"{doc_filename}.md\"\n",
    "\n",
    "conv_result.document.save_as_markdown(file_name, image_mode=ImageRefMode.REFERENCED)\n",
    "    "
   ]
  },
  {
   "cell_type": "code",
   "execution_count": 7,
   "metadata": {},
   "outputs": [],
   "source": [
    "\n",
    "# from IPython.display import display, HTML\n",
    "# import base64\n",
    "# table_counter = 0\n",
    "# picture_counter = 0\n",
    "# for element, _level in conv_result.document.iterate_items():\n",
    "#         if isinstance(element, TableItem):\n",
    "#             table_counter += 1\n",
    "#             element_table_filename = (\n",
    "#                 output_dir / f\"{doc_filename}-table-{table_counter}.PNG\"\n",
    "#             )\n",
    "#             with element_table_filename.open(\"wb\") as fp:\n",
    "#                 element.get_image(conv_result.document).save(fp, \"PNG\")\n",
    "#             # table_df: pd.DataFrame = element.export_to_dataframe()\n",
    "#             # with element_table_filename.open(\"wb\") as fp:\n",
    "#             #     fp.write(table_df.to_markdown().encode(\"utf-8\"))\n",
    "\n",
    "#         if isinstance(element, PictureItem):\n",
    "#             picture_counter += 1\n",
    "#             element_image_filename = (\n",
    "#                 output_dir / f\"{doc_filename}-picture-{picture_counter}.png\"\n",
    "#             )\n",
    "#             #html_code = f'<img src=\"data:image/png;base64,{base64.b64encode(image_data).decode('utf-8')}\" alt=\"Base64 Image\" />'\n",
    "#             #display(HTML(html_code))\n",
    "#             with element_image_filename.open(\"wb\") as fp:\n",
    "#                 element.get_image(conv_result.document).save(fp, \"PNG\")\n",
    "                "
   ]
  }
 ],
 "metadata": {
  "kernelspec": {
   "display_name": "damg7245",
   "language": "python",
   "name": "python3"
  },
  "language_info": {
   "codemirror_mode": {
    "name": "ipython",
    "version": 3
   },
   "file_extension": ".py",
   "mimetype": "text/x-python",
   "name": "python",
   "nbconvert_exporter": "python",
   "pygments_lexer": "ipython3",
   "version": "3.12.8"
  }
 },
 "nbformat": 4,
 "nbformat_minor": 2
}
